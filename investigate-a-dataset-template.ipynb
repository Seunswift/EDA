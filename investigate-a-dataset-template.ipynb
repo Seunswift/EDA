{
 "cells": [
  {
   "cell_type": "markdown",
   "metadata": {},
   "source": [
    "\n",
    "\n",
    "# Project: The No-show Appointment Dataset\n",
    "\n",
    "## Table of Contents\n",
    "<ul>\n",
    "<li><a href=\"#intro\">Introduction</a></li>\n",
    "<li><a href=\"#wrangling\">Data Wrangling</a></li>\n",
    "<li><a href=\"#eda\">Exploratory Data Analysis</a></li>\n",
    "<li><a href=\"#conclusions\">Conclusions</a></li>\n",
    "<li><a href=\"#limitations\">Limitations</a></li>\n",
    "  \n",
    "</ul>"
   ]
  },
  {
   "cell_type": "markdown",
   "metadata": {},
   "source": [
    "<a id='intro'></a>\n",
    "## Introduction\n",
    "\n",
    "> This dataset collects information from 100k medical appointments in Brazil and is focused on whether or not patients show for their appointment.\n",
    "\n",
    "> This project focuses on analyzing the dataset to better understand and describe the patients whom have showed up for appointments. Also, to visualize patients' distribution and provide further descriptive insights.\n",
    "\n",
    "#### Research Question\n",
    "We would like to understand if there are differences in the patients who showed up for the appointment and those who didn't.\n",
    "We would try to anser this question by looking at the variables below:\n",
    "\n",
    "* Proportion of patients who showed up across time difference (scheduled date and appointment date), can we notice a difference ?\n",
    "* Is age associated with showing up ?\n",
    "* Proportion of patients who showed up across gender\n",
    "* Proportion of patients who showed up across text message (received SMS or not)"
   ]
  },
  {
   "cell_type": "code",
   "execution_count": 1,
   "metadata": {},
   "outputs": [],
   "source": [
    "# Importing necessary libraries and dependencies\n",
    "import pandas as pd\n",
    "import numpy as np\n",
    "import matplotlib.pyplot as plt\n",
    "import seaborn as sns\n",
    "import datetime\n",
    "from dateutil.relativedelta import relativedelta\n",
    "from itertools import product\n",
    "from statsmodels.stats.weightstats import ztest as ztest\n",
    "import math\n",
    "%matplotlib inline\n",
    "sns.set_style(\"darkgrid\")"
   ]
  },
  {
   "cell_type": "markdown",
   "metadata": {},
   "source": [
    "\n",
    "## Data description\n",
    "> The dataset has 14 columns and 110527 observations. Dataset has no missing values, all columns have complete records and no duplicted record.\n",
    "\n",
    "\n",
    "**Columns Description**\n",
    "  *  PatientId - refers to the unique identification for individual patients.\n",
    "  *  AppointmentID - refers to the unique appointment number.\n",
    "  *  Gender - refers to the sex of the patient (Male / Female)\n",
    "  *  ScheduledDay - refers to the day the appointment was scheduled\n",
    "  *  AppointmentDay - referes to the appointment day\n",
    "  *  Age - refers to the age of the patient\n",
    "  *  Neighbourhood - refers to where the appointment would take place\n",
    "  *  Scholarship - refers to if patient is a beneficiary of a social welfare program in Brazil (True/ False)\n",
    "  *  Hypertension - refers to if patient suffers from hypertension (True/ False)\n",
    "  *  Diabetes - refers to if patient suffers from diabetes (True/ False)\n",
    "  *  Alcoholism - refers to if patient takes alcholol (True/ False)\n",
    "  *  Handicap - refers to if patient is handicapped (True/ False)\n",
    "  *  SMS_received - referes atleast one message was sent (True / False)\n",
    "  *  No-show - refers to patient showing up or not \n",
    "  \n",
    "##### True is coded as 1 and 0 for false\n",
    "  \n",
    "\n"
   ]
  },
  {
   "cell_type": "markdown",
   "metadata": {},
   "source": [
    "<a id='wrangling'></a>\n",
    "# Data Wrangling and Cleaning\n"
   ]
  },
  {
   "cell_type": "code",
   "execution_count": 2,
   "metadata": {},
   "outputs": [
    {
     "name": "stdout",
     "output_type": "stream",
     "text": [
      "The dataset has 14 columns and 110527 rows\n",
      "There are 0 duplicated rows in the data\n"
     ]
    }
   ],
   "source": [
    "# loading the dataset into python\n",
    "df = pd.read_csv(\"noshowappointments-kagglev2-may-2016.csv\")\n",
    "\n",
    "# checking the shape of the data\n",
    "print(\"The dataset has {} columns and {} rows\".format(df.shape[1],df.shape[0]))\n",
    "print(\"There are {} duplicated rows in the data\".format(df.duplicated().sum())) # to check for duplicated rows"
   ]
  },
  {
   "cell_type": "code",
   "execution_count": 3,
   "metadata": {},
   "outputs": [
    {
     "name": "stdout",
     "output_type": "stream",
     "text": [
      "<class 'pandas.core.frame.DataFrame'>\n",
      "RangeIndex: 110527 entries, 0 to 110526\n",
      "Data columns (total 14 columns):\n",
      " #   Column          Non-Null Count   Dtype  \n",
      "---  ------          --------------   -----  \n",
      " 0   PatientId       110527 non-null  float64\n",
      " 1   AppointmentID   110527 non-null  int64  \n",
      " 2   Gender          110527 non-null  object \n",
      " 3   ScheduledDay    110527 non-null  object \n",
      " 4   AppointmentDay  110527 non-null  object \n",
      " 5   Age             110527 non-null  int64  \n",
      " 6   Neighbourhood   110527 non-null  object \n",
      " 7   Scholarship     110527 non-null  int64  \n",
      " 8   Hipertension    110527 non-null  int64  \n",
      " 9   Diabetes        110527 non-null  int64  \n",
      " 10  Alcoholism      110527 non-null  int64  \n",
      " 11  Handcap         110527 non-null  int64  \n",
      " 12  SMS_received    110527 non-null  int64  \n",
      " 13  No-show         110527 non-null  object \n",
      "dtypes: float64(1), int64(8), object(5)\n",
      "memory usage: 11.8+ MB\n"
     ]
    }
   ],
   "source": [
    "df.info() # Data Information"
   ]
  },
  {
   "cell_type": "code",
   "execution_count": 4,
   "metadata": {},
   "outputs": [
    {
     "data": {
      "text/html": [
       "<div>\n",
       "<style scoped>\n",
       "    .dataframe tbody tr th:only-of-type {\n",
       "        vertical-align: middle;\n",
       "    }\n",
       "\n",
       "    .dataframe tbody tr th {\n",
       "        vertical-align: top;\n",
       "    }\n",
       "\n",
       "    .dataframe thead th {\n",
       "        text-align: right;\n",
       "    }\n",
       "</style>\n",
       "<table border=\"1\" class=\"dataframe\">\n",
       "  <thead>\n",
       "    <tr style=\"text-align: right;\">\n",
       "      <th></th>\n",
       "      <th>PatientId</th>\n",
       "      <th>AppointmentID</th>\n",
       "      <th>Gender</th>\n",
       "      <th>ScheduledDay</th>\n",
       "      <th>AppointmentDay</th>\n",
       "      <th>Age</th>\n",
       "      <th>Neighbourhood</th>\n",
       "      <th>Scholarship</th>\n",
       "      <th>Hipertension</th>\n",
       "      <th>Diabetes</th>\n",
       "      <th>Alcoholism</th>\n",
       "      <th>Handcap</th>\n",
       "      <th>SMS_received</th>\n",
       "      <th>No-show</th>\n",
       "    </tr>\n",
       "  </thead>\n",
       "  <tbody>\n",
       "    <tr>\n",
       "      <th>0</th>\n",
       "      <td>2.987250e+13</td>\n",
       "      <td>5642903</td>\n",
       "      <td>F</td>\n",
       "      <td>2016-04-29T18:38:08Z</td>\n",
       "      <td>2016-04-29T00:00:00Z</td>\n",
       "      <td>62</td>\n",
       "      <td>JARDIM DA PENHA</td>\n",
       "      <td>0</td>\n",
       "      <td>1</td>\n",
       "      <td>0</td>\n",
       "      <td>0</td>\n",
       "      <td>0</td>\n",
       "      <td>0</td>\n",
       "      <td>No</td>\n",
       "    </tr>\n",
       "    <tr>\n",
       "      <th>1</th>\n",
       "      <td>5.589978e+14</td>\n",
       "      <td>5642503</td>\n",
       "      <td>M</td>\n",
       "      <td>2016-04-29T16:08:27Z</td>\n",
       "      <td>2016-04-29T00:00:00Z</td>\n",
       "      <td>56</td>\n",
       "      <td>JARDIM DA PENHA</td>\n",
       "      <td>0</td>\n",
       "      <td>0</td>\n",
       "      <td>0</td>\n",
       "      <td>0</td>\n",
       "      <td>0</td>\n",
       "      <td>0</td>\n",
       "      <td>No</td>\n",
       "    </tr>\n",
       "    <tr>\n",
       "      <th>2</th>\n",
       "      <td>4.262962e+12</td>\n",
       "      <td>5642549</td>\n",
       "      <td>F</td>\n",
       "      <td>2016-04-29T16:19:04Z</td>\n",
       "      <td>2016-04-29T00:00:00Z</td>\n",
       "      <td>62</td>\n",
       "      <td>MATA DA PRAIA</td>\n",
       "      <td>0</td>\n",
       "      <td>0</td>\n",
       "      <td>0</td>\n",
       "      <td>0</td>\n",
       "      <td>0</td>\n",
       "      <td>0</td>\n",
       "      <td>No</td>\n",
       "    </tr>\n",
       "    <tr>\n",
       "      <th>3</th>\n",
       "      <td>8.679512e+11</td>\n",
       "      <td>5642828</td>\n",
       "      <td>F</td>\n",
       "      <td>2016-04-29T17:29:31Z</td>\n",
       "      <td>2016-04-29T00:00:00Z</td>\n",
       "      <td>8</td>\n",
       "      <td>PONTAL DE CAMBURI</td>\n",
       "      <td>0</td>\n",
       "      <td>0</td>\n",
       "      <td>0</td>\n",
       "      <td>0</td>\n",
       "      <td>0</td>\n",
       "      <td>0</td>\n",
       "      <td>No</td>\n",
       "    </tr>\n",
       "    <tr>\n",
       "      <th>4</th>\n",
       "      <td>8.841186e+12</td>\n",
       "      <td>5642494</td>\n",
       "      <td>F</td>\n",
       "      <td>2016-04-29T16:07:23Z</td>\n",
       "      <td>2016-04-29T00:00:00Z</td>\n",
       "      <td>56</td>\n",
       "      <td>JARDIM DA PENHA</td>\n",
       "      <td>0</td>\n",
       "      <td>1</td>\n",
       "      <td>1</td>\n",
       "      <td>0</td>\n",
       "      <td>0</td>\n",
       "      <td>0</td>\n",
       "      <td>No</td>\n",
       "    </tr>\n",
       "  </tbody>\n",
       "</table>\n",
       "</div>"
      ],
      "text/plain": [
       "      PatientId  AppointmentID Gender          ScheduledDay  \\\n",
       "0  2.987250e+13        5642903      F  2016-04-29T18:38:08Z   \n",
       "1  5.589978e+14        5642503      M  2016-04-29T16:08:27Z   \n",
       "2  4.262962e+12        5642549      F  2016-04-29T16:19:04Z   \n",
       "3  8.679512e+11        5642828      F  2016-04-29T17:29:31Z   \n",
       "4  8.841186e+12        5642494      F  2016-04-29T16:07:23Z   \n",
       "\n",
       "         AppointmentDay  Age      Neighbourhood  Scholarship  Hipertension  \\\n",
       "0  2016-04-29T00:00:00Z   62    JARDIM DA PENHA            0             1   \n",
       "1  2016-04-29T00:00:00Z   56    JARDIM DA PENHA            0             0   \n",
       "2  2016-04-29T00:00:00Z   62      MATA DA PRAIA            0             0   \n",
       "3  2016-04-29T00:00:00Z    8  PONTAL DE CAMBURI            0             0   \n",
       "4  2016-04-29T00:00:00Z   56    JARDIM DA PENHA            0             1   \n",
       "\n",
       "   Diabetes  Alcoholism  Handcap  SMS_received No-show  \n",
       "0         0           0        0             0      No  \n",
       "1         0           0        0             0      No  \n",
       "2         0           0        0             0      No  \n",
       "3         0           0        0             0      No  \n",
       "4         1           0        0             0      No  "
      ]
     },
     "execution_count": 4,
     "metadata": {},
     "output_type": "execute_result"
    }
   ],
   "source": [
    "df.head() # first 5 rows"
   ]
  },
  {
   "cell_type": "code",
   "execution_count": 5,
   "metadata": {},
   "outputs": [
    {
     "name": "stdout",
     "output_type": "stream",
     "text": [
      "PatientId         0\n",
      "AppointmentID     0\n",
      "Gender            0\n",
      "ScheduledDay      0\n",
      "AppointmentDay    0\n",
      "Age               0\n",
      "Neighbourhood     0\n",
      "Scholarship       0\n",
      "Hipertension      0\n",
      "Diabetes          0\n",
      "Alcoholism        0\n",
      "Handcap           0\n",
      "SMS_received      0\n",
      "No-show           0\n",
      "dtype: int64\n"
     ]
    }
   ],
   "source": [
    "print(df.isnull().sum()) # checking for null records "
   ]
  },
  {
   "cell_type": "code",
   "execution_count": 6,
   "metadata": {},
   "outputs": [
    {
     "data": {
      "image/png": "[encoded data removed]",
      "text/plain": [
       "<Figure size 720x720 with 9 Axes>"
      ]
     },
     "metadata": {},
     "output_type": "display_data"
    }
   ],
   "source": [
    "# Plotting the distribution of all columns\n",
    "df.hist(figsize= (10,10));"
   ]
  },
  {
   "cell_type": "markdown",
   "metadata": {},
   "source": [
    "From our checks, there are no duplicated and missing values in the dataset. Hence, the next step is to proceed to data wrangling."
   ]
  },
  {
   "cell_type": "markdown",
   "metadata": {},
   "source": [
    "### Data Cleaning\n",
    "\n",
    "####  Cleaning Steps \n",
    "* Renaming wrongly spelt columns\n",
    "* dropping columns that have very high or low dimensionality (provide little to our analysis, this specifically refers to the appointmentID column)\n",
    "* Converting the days to a daytime format"
   ]
  },
  {
   "cell_type": "code",
   "execution_count": 7,
   "metadata": {},
   "outputs": [],
   "source": [
    "# Rename wrongly spelt columns\n",
    "df.rename(columns = {'Hipertension':'Hypertension','Handcap':'Handicap','No-show':'No_show'}, inplace = True)"
   ]
  },
  {
   "cell_type": "code",
   "execution_count": 8,
   "metadata": {},
   "outputs": [],
   "source": [
    "# # Dropping columns with high dimensionality\n",
    "df.drop(columns = ['AppointmentID'], inplace = True)"
   ]
  },
  {
   "cell_type": "code",
   "execution_count": 9,
   "metadata": {},
   "outputs": [],
   "source": [
    "# Changing columns of date to a datetime format\n",
    "df['ScheduledDay'] = pd.to_datetime(df['ScheduledDay'])\n",
    "df['AppointmentDay'] = pd.to_datetime(df['AppointmentDay'])"
   ]
  },
  {
   "cell_type": "markdown",
   "metadata": {},
   "source": [
    "#### Creating a date_diff column \n",
    "\n",
    "Create a date_diff column which is the difference in the scheduled day and appointment day. We can visualize the variations in patients showing up across the difference in scheduled day and appointment day\n",
    "\n",
    "We would also cut the \"Date_diff\" into bins, which would allow us categorize the time difference"
   ]
  },
  {
   "cell_type": "code",
   "execution_count": 10,
   "metadata": {},
   "outputs": [
    {
     "data": {
      "image/png": "[encoded data removed]",
      "text/plain": [
       "<Figure size 432x288 with 1 Axes>"
      ]
     },
     "metadata": {},
     "output_type": "display_data"
    }
   ],
   "source": [
    "# Calculates the difference in the scheduled and appointment date\n",
    "df['Date_diff'] = df['AppointmentDay'] - df['ScheduledDay']\n",
    "\n",
    "# Converting the date_diff columns to days \n",
    "df['Date_diff'] = df['Date_diff'] / np.timedelta64(1, 'D')\n",
    "df['Date_diff'] = np.floor(df['Date_diff'].abs())\n",
    "df.Date_diff.hist(bins=10);"
   ]
  },
  {
   "cell_type": "code",
   "execution_count": 11,
   "metadata": {},
   "outputs": [
    {
     "data": {
      "text/plain": [
       "Same day                43776\n",
       "Less than a week        29309\n",
       "Less than a month       16540\n",
       "Less than 2 weeks       11196\n",
       "Greater than a month     9706\n",
       "Name: Duration, dtype: int64"
      ]
     },
     "execution_count": 11,
     "metadata": {},
     "output_type": "execute_result"
    }
   ],
   "source": [
    "# Creating a Duration column\n",
    "df['Date_diff'].describe()\n",
    "\n",
    "# Bin edges that will be used to \"cut\" the data into groups\n",
    "bin_edges = [-0.5, 0.0, 7.0, 14.0, 30.0, 178.0]\n",
    "\n",
    "# Labels for the time differences\n",
    "bin_names = ['Same day','Less than a week' ,'Less than 2 weeks' ,'Less than a month','Greater than a month']\n",
    "\n",
    "# Creates duration column\n",
    "df['Duration'] = pd.cut(df['Date_diff'], bin_edges, labels=bin_names)\n",
    "df['Duration'].value_counts()"
   ]
  },
  {
   "cell_type": "markdown",
   "metadata": {},
   "source": [
    "<a id='eda'></a>\n",
    "## Exploratory Data Analysis\n",
    "\n",
    "This is where we show the proportions across our variable of interests."
   ]
  },
  {
   "cell_type": "code",
   "execution_count": 12,
   "metadata": {},
   "outputs": [
    {
     "data": {
      "text/plain": [
       "No     88208\n",
       "Yes    22319\n",
       "Name: No_show, dtype: int64"
      ]
     },
     "execution_count": 12,
     "metadata": {},
     "output_type": "execute_result"
    }
   ],
   "source": [
    "# Count of patients showing up for the appointment\n",
    "df['No_show'].value_counts()"
   ]
  },
  {
   "cell_type": "code",
   "execution_count": 13,
   "metadata": {},
   "outputs": [
    {
     "data": {
      "text/plain": [
       "No     0.798067\n",
       "Yes    0.201933\n",
       "Name: No_show, dtype: float64"
      ]
     },
     "execution_count": 13,
     "metadata": {},
     "output_type": "execute_result"
    }
   ],
   "source": [
    "# Proportion of patients \n",
    "df['No_show'].value_counts() / len(df)"
   ]
  },
  {
   "cell_type": "markdown",
   "metadata": {},
   "source": [
    "> Only 20% of patients showed up for their appointment. Majority (88,208) didn't show up for their appointments."
   ]
  },
  {
   "cell_type": "markdown",
   "metadata": {},
   "source": [
    "### Does time difference between scheduled date and appointment date affect show up ?"
   ]
  },
  {
   "cell_type": "code",
   "execution_count": 14,
   "metadata": {},
   "outputs": [
    {
     "data": {
      "text/plain": [
       "Same day                0.396066\n",
       "Less than a week        0.265175\n",
       "Less than a month       0.149647\n",
       "Less than 2 weeks       0.101297\n",
       "Greater than a month    0.087816\n",
       "Name: Duration, dtype: float64"
      ]
     },
     "execution_count": 14,
     "metadata": {},
     "output_type": "execute_result"
    }
   ],
   "source": [
    "# Proportion of time difference\n",
    "df.Duration.value_counts() / len(df)"
   ]
  },
  {
   "cell_type": "code",
   "execution_count": 15,
   "metadata": {},
   "outputs": [
    {
     "data": {
      "image/png": "[encoded data removed]",
      "text/plain": [
       "<Figure size 576x576 with 1 Axes>"
      ]
     },
     "metadata": {},
     "output_type": "display_data"
    }
   ],
   "source": [
    "# A bar chart of the time inhterval between scheduled and appointment date\n",
    "df.Duration.value_counts().plot(kind = 'bar', title = \"Time Difference in Schedule and Appointment Date\",\n",
    "                                xlabel = 'Time Interval', ylabel = 'Number of Patients', figsize=(8,8))\n",
    "plt.legend();"
   ]
  },
  {
   "cell_type": "markdown",
   "metadata": {},
   "source": [
    "Majority of appointment were booked on the same day (40%), 26% were scheduled within 7 days, 10% were scheduled within 14 days, 15% within a month and 9% had more than a month difference from scheduled date to appointment date.\n"
   ]
  },
  {
   "cell_type": "code",
   "execution_count": 16,
   "metadata": {},
   "outputs": [],
   "source": [
    "def group(col):\n",
    "    \"\"\"\n",
    "    This function groups the specified column of interest with the No_show column in the dataset\n",
    "    It takes only one argument\n",
    "    \"\"\"\n",
    "    ax = df.groupby([col, 'No_show'])['Age'].count()\n",
    "    return ax"
   ]
  },
  {
   "cell_type": "code",
   "execution_count": 17,
   "metadata": {},
   "outputs": [
    {
     "data": {
      "text/html": [
       "<div>\n",
       "<style scoped>\n",
       "    .dataframe tbody tr th:only-of-type {\n",
       "        vertical-align: middle;\n",
       "    }\n",
       "\n",
       "    .dataframe tbody tr th {\n",
       "        vertical-align: top;\n",
       "    }\n",
       "\n",
       "    .dataframe thead th {\n",
       "        text-align: right;\n",
       "    }\n",
       "</style>\n",
       "<table border=\"1\" class=\"dataframe\">\n",
       "  <thead>\n",
       "    <tr style=\"text-align: right;\">\n",
       "      <th></th>\n",
       "      <th></th>\n",
       "      <th>Age</th>\n",
       "    </tr>\n",
       "    <tr>\n",
       "      <th>Duration</th>\n",
       "      <th>No_show</th>\n",
       "      <th></th>\n",
       "    </tr>\n",
       "  </thead>\n",
       "  <tbody>\n",
       "    <tr>\n",
       "      <th rowspan=\"2\" valign=\"top\">Same day</th>\n",
       "      <th>No</th>\n",
       "      <td>0.933639</td>\n",
       "    </tr>\n",
       "    <tr>\n",
       "      <th>Yes</th>\n",
       "      <td>0.066361</td>\n",
       "    </tr>\n",
       "    <tr>\n",
       "      <th rowspan=\"2\" valign=\"top\">Less than a week</th>\n",
       "      <th>No</th>\n",
       "      <td>0.749770</td>\n",
       "    </tr>\n",
       "    <tr>\n",
       "      <th>Yes</th>\n",
       "      <td>0.250230</td>\n",
       "    </tr>\n",
       "    <tr>\n",
       "      <th rowspan=\"2\" valign=\"top\">Less than 2 weeks</th>\n",
       "      <th>No</th>\n",
       "      <td>0.687746</td>\n",
       "    </tr>\n",
       "    <tr>\n",
       "      <th>Yes</th>\n",
       "      <td>0.312254</td>\n",
       "    </tr>\n",
       "    <tr>\n",
       "      <th rowspan=\"2\" valign=\"top\">Less than a month</th>\n",
       "      <th>No</th>\n",
       "      <td>0.674788</td>\n",
       "    </tr>\n",
       "    <tr>\n",
       "      <th>Yes</th>\n",
       "      <td>0.325212</td>\n",
       "    </tr>\n",
       "    <tr>\n",
       "      <th rowspan=\"2\" valign=\"top\">Greater than a month</th>\n",
       "      <th>No</th>\n",
       "      <td>0.669792</td>\n",
       "    </tr>\n",
       "    <tr>\n",
       "      <th>Yes</th>\n",
       "      <td>0.330208</td>\n",
       "    </tr>\n",
       "  </tbody>\n",
       "</table>\n",
       "</div>"
      ],
      "text/plain": [
       "                                   Age\n",
       "Duration             No_show          \n",
       "Same day             No       0.933639\n",
       "                     Yes      0.066361\n",
       "Less than a week     No       0.749770\n",
       "                     Yes      0.250230\n",
       "Less than 2 weeks    No       0.687746\n",
       "                     Yes      0.312254\n",
       "Less than a month    No       0.674788\n",
       "                     Yes      0.325212\n",
       "Greater than a month No       0.669792\n",
       "                     Yes      0.330208"
      ]
     },
     "execution_count": 17,
     "metadata": {},
     "output_type": "execute_result"
    }
   ],
   "source": [
    "# Calculating the proportion within groups\n",
    "counts = group('Duration')\n",
    "totals = df.groupby('Duration').count()['Age']\n",
    "duration_prop = counts / totals \n",
    "duration_prop = pd.DataFrame(duration_prop)\n",
    "duration_prop"
   ]
  },
  {
   "cell_type": "code",
   "execution_count": 18,
   "metadata": {},
   "outputs": [
    {
     "data": {
      "image/png": "[encoded data removed]",
      "text/plain": [
       "<Figure size 412.375x360 with 1 Axes>"
      ]
     },
     "metadata": {},
     "output_type": "display_data"
    }
   ],
   "source": [
    "# Plotting a countplot visual\n",
    "Duration_order = ['Same day','Less than a week' ,'Less than 2 weeks','Less than a month' ,'Greater than a month'] \n",
    "hue_order = ['No', 'Yes']\n",
    "bar_order = product(Duration_order, hue_order)\n",
    "\n",
    "catp = sns.catplot(data=df, kind='count', \n",
    "                   x='Duration', hue='No_show',\n",
    "                   order = Duration_order, \n",
    "                   hue_order = hue_order )\n",
    "plt.xticks(rotation=90)\n",
    "plt.title(\"Showing up across time difference\")\n",
    "plt.xlabel(\"Patient Count\")\n",
    "plt.ylabel(\"Time Interval\")\n",
    "plt.legend();\n",
    "\n",
    "# The code below is to add the proportions to the bar.\n",
    "spots = zip(catp.ax.patches, bar_order)\n",
    "for spot in spots:\n",
    "    Duration_total = len(df[df['Duration']==spot[1][0]])\n",
    "    Duration_No_show_total = len(df[(df['Duration']==spot[1][0]) & \n",
    "        (df['No_show']==spot[1][1])])\n",
    "    height = spot[0].get_height() \n",
    "    catp.ax.text(spot[0].get_x(), height+3, '{:1.2f}'.format(Duration_No_show_total/Duration_total))"
   ]
  },
  {
   "cell_type": "markdown",
   "metadata": {},
   "source": [
    "> The difference in time from scheduled and appointment date provide insights to understand the number of patients who came for their appointment. \n",
    "* A longer time difference between the scheduled time and appointment date is associated with a higher proportion of turn up\n",
    "* Lower turn out has been noticeable with a shorter time difference, as proportion of not making the appointment increases."
   ]
  },
  {
   "cell_type": "markdown",
   "metadata": {},
   "source": [
    "Guide for this visualization https://stackoverflow.com/questions/31749448/how-to-add-percentages-on-top-of-bars-in-seaborn"
   ]
  },
  {
   "cell_type": "markdown",
   "metadata": {},
   "source": [
    "### Is Age associated with showing up ?"
   ]
  },
  {
   "cell_type": "code",
   "execution_count": 19,
   "metadata": {},
   "outputs": [
    {
     "data": {
      "image/png": "[encoded data removed]",
      "text/plain": [
       "<Figure size 432x288 with 2 Axes>"
      ]
     },
     "metadata": {},
     "output_type": "display_data"
    }
   ],
   "source": [
    "fig, axes = plt.subplots(1,2)\n",
    "\n",
    "df.Age[df.No_show == 'Yes'].hist(label = 'Showed', bins = 20,ax=axes[0],edgecolor = \"Black\")\n",
    "df.Age[df.No_show == 'No'].hist(label = 'No show', bins = 20, ax=axes[1], edgecolor = \"Black\")\n",
    "\n",
    "axes[0].set_title('Showed up Histogram')\n",
    "axes[1].set_title('No Show Histogram');\n",
    "\n",
    "fig.text(0.5, 0.02, 'Age', ha='center');\n",
    "fig.text(0.01, 0.5, 'Number of Passengers', va ='center', rotation='vertical');"
   ]
  },
  {
   "cell_type": "code",
   "execution_count": 20,
   "metadata": {},
   "outputs": [
    {
     "data": {
      "image/png": "[encoded data removed]",
      "text/plain": [
       "<Figure size 432x288 with 1 Axes>"
      ]
     },
     "metadata": {},
     "output_type": "display_data"
    }
   ],
   "source": [
    "fig, ax = plt.subplots()\n",
    "\n",
    "x = df.Age[df.No_show == 'Yes']\n",
    "y = df.Age[df.No_show == 'No']\n",
    "\n",
    "plt.hist(x, alpha=0.7, bins = 20, label='Yes')\n",
    "plt.hist(y, alpha=0.5, bins = 20, label='No')\n",
    "plt.legend(loc='upper right')\n",
    "ax.set_title('Ages of Patients')\n",
    "ax.set_ylabel(\"Frequency\");"
   ]
  },
  {
   "cell_type": "markdown",
   "metadata": {},
   "source": [
    "There is a similar distribution of patients' age across both groups. The median age is 33 and 38 across the \"showed up\" and \"no show\" group respectively.\n",
    "Both distributions are rightly skewed."
   ]
  },
  {
   "cell_type": "code",
   "execution_count": 21,
   "metadata": {
    "scrolled": true
   },
   "outputs": [
    {
     "data": {
      "image/png": "[encoded data removed]",
      "text/plain": [
       "<Figure size 432x288 with 1 Axes>"
      ]
     },
     "metadata": {},
     "output_type": "display_data"
    }
   ],
   "source": [
    "sns.boxplot(x= 'Age', y='No_show', data=df)\n",
    "plt.xticks(rotation=90)\n",
    "plt.title(\"Showing up across Age\")\n",
    "plt.xlabel(\"Age\")\n",
    "plt.ylabel(\"Showing Up\");"
   ]
  },
  {
   "cell_type": "markdown",
   "metadata": {},
   "source": [
    "\n",
    "Majority of patients who showed up were between ages 0 and 51 while those who didn't were between 0 and 56. The Boxplot also shows some outliers across both groups, with some patients above 100 years old."
   ]
  },
  {
   "cell_type": "code",
   "execution_count": 22,
   "metadata": {},
   "outputs": [
    {
     "name": "stdout",
     "output_type": "stream",
     "text": [
      "The test statistics for the ages of the 2 groups is -20.089649945046602\n",
      "The p-value is 9.090066569270412e-90\n"
     ]
    }
   ],
   "source": [
    "# Statistical test for difference in mean\n",
    "# perform two sample z-test\n",
    "x = ztest(x, y, value=0)\n",
    "print(\"The test statistics for the ages of the 2 groups is {}\".format(x[0]))\n",
    "print(\"The p-value is {}\".format(x[1]))"
   ]
  },
  {
   "cell_type": "markdown",
   "metadata": {},
   "source": [
    "Our null hypothesis states that there's no difference in the mean ages of those who showed up for the appointment and those who didn't. The alternate hypothesis states there's difference.\n",
    "\n",
    "Since this p-value is less than .05 (threshold), we have sufficient evidence to reject the null hypothesis. In other words, the mean age is significantly different between the two groups."
   ]
  },
  {
   "cell_type": "markdown",
   "metadata": {},
   "source": [
    "### What are the proportions of patients showing up by Gender ?"
   ]
  },
  {
   "cell_type": "code",
   "execution_count": 23,
   "metadata": {},
   "outputs": [
    {
     "data": {
      "text/html": [
       "<div>\n",
       "<style scoped>\n",
       "    .dataframe tbody tr th:only-of-type {\n",
       "        vertical-align: middle;\n",
       "    }\n",
       "\n",
       "    .dataframe tbody tr th {\n",
       "        vertical-align: top;\n",
       "    }\n",
       "\n",
       "    .dataframe thead th {\n",
       "        text-align: right;\n",
       "    }\n",
       "</style>\n",
       "<table border=\"1\" class=\"dataframe\">\n",
       "  <thead>\n",
       "    <tr style=\"text-align: right;\">\n",
       "      <th></th>\n",
       "      <th></th>\n",
       "      <th>Age</th>\n",
       "    </tr>\n",
       "    <tr>\n",
       "      <th>Gender</th>\n",
       "      <th>No_show</th>\n",
       "      <th></th>\n",
       "    </tr>\n",
       "  </thead>\n",
       "  <tbody>\n",
       "    <tr>\n",
       "      <th rowspan=\"2\" valign=\"top\">F</th>\n",
       "      <th>No</th>\n",
       "      <td>0.796854</td>\n",
       "    </tr>\n",
       "    <tr>\n",
       "      <th>Yes</th>\n",
       "      <td>0.203146</td>\n",
       "    </tr>\n",
       "    <tr>\n",
       "      <th rowspan=\"2\" valign=\"top\">M</th>\n",
       "      <th>No</th>\n",
       "      <td>0.800321</td>\n",
       "    </tr>\n",
       "    <tr>\n",
       "      <th>Yes</th>\n",
       "      <td>0.199679</td>\n",
       "    </tr>\n",
       "  </tbody>\n",
       "</table>\n",
       "</div>"
      ],
      "text/plain": [
       "                     Age\n",
       "Gender No_show          \n",
       "F      No       0.796854\n",
       "       Yes      0.203146\n",
       "M      No       0.800321\n",
       "       Yes      0.199679"
      ]
     },
     "execution_count": 23,
     "metadata": {},
     "output_type": "execute_result"
    }
   ],
   "source": [
    "# Calculating the proportion within groups\n",
    "counts = group('Gender')\n",
    "totals = df.groupby('Gender').count()['Age']\n",
    "gender_prop = counts / totals \n",
    "gender_prop = pd.DataFrame(gender_prop)\n",
    "gender_prop"
   ]
  },
  {
   "cell_type": "code",
   "execution_count": 24,
   "metadata": {},
   "outputs": [
    {
     "data": {
      "image/png": "[encoded data removed]",
      "text/plain": [
       "<Figure size 412.375x360 with 1 Axes>"
      ]
     },
     "metadata": {},
     "output_type": "display_data"
    }
   ],
   "source": [
    "# Plotting a countplot visual\n",
    "Gender_order = ['F' ,'M'] \n",
    "hue_order = ['No', 'Yes']\n",
    "bar_order = product(Gender_order, hue_order)\n",
    "\n",
    "catp = sns.catplot(data=df, kind='count', \n",
    "                   x='Gender', hue='No_show', \n",
    "                   order = Gender_order, hue_order = hue_order )\n",
    "plt.xticks(rotation=90)\n",
    "plt.title(\"Showing up across Gender\")\n",
    "plt.xlabel(\"Patient Count\")\n",
    "plt.ylabel(\"Gender\")\n",
    "plt.legend();\n",
    "\n",
    "# The code below is to add the proportions to the bar.\n",
    "spots = zip(catp.ax.patches, bar_order)\n",
    "for spot in spots:\n",
    "    Gender_total = len(df[df['Gender']==spot[1][0]])\n",
    "    Gender_No_show_total = len(df[(df['Gender']==spot[1][0]) & \n",
    "        (df['No_show']==spot[1][1])])\n",
    "    height = spot[0].get_height() \n",
    "    catp.ax.text(spot[0].get_x(), height+3, '{:1.2f}'.format(Gender_No_show_total/Gender_total))"
   ]
  },
  {
   "cell_type": "markdown",
   "metadata": {},
   "source": [
    "> There are little difference in the proportion of patients who showed up for appointment by gender. Approximately 80% didn't show up across both genders."
   ]
  },
  {
   "cell_type": "markdown",
   "metadata": {
    "collapsed": true
   },
   "source": [
    "###  Did patient who received text message show up for appointment?"
   ]
  },
  {
   "cell_type": "code",
   "execution_count": 25,
   "metadata": {},
   "outputs": [
    {
     "data": {
      "text/html": [
       "<div>\n",
       "<style scoped>\n",
       "    .dataframe tbody tr th:only-of-type {\n",
       "        vertical-align: middle;\n",
       "    }\n",
       "\n",
       "    .dataframe tbody tr th {\n",
       "        vertical-align: top;\n",
       "    }\n",
       "\n",
       "    .dataframe thead th {\n",
       "        text-align: right;\n",
       "    }\n",
       "</style>\n",
       "<table border=\"1\" class=\"dataframe\">\n",
       "  <thead>\n",
       "    <tr style=\"text-align: right;\">\n",
       "      <th></th>\n",
       "      <th></th>\n",
       "      <th>Age</th>\n",
       "    </tr>\n",
       "    <tr>\n",
       "      <th>SMS_received</th>\n",
       "      <th>No_show</th>\n",
       "      <th></th>\n",
       "    </tr>\n",
       "  </thead>\n",
       "  <tbody>\n",
       "    <tr>\n",
       "      <th rowspan=\"2\" valign=\"top\">0</th>\n",
       "      <th>No</th>\n",
       "      <td>0.832967</td>\n",
       "    </tr>\n",
       "    <tr>\n",
       "      <th>Yes</th>\n",
       "      <td>0.167033</td>\n",
       "    </tr>\n",
       "    <tr>\n",
       "      <th rowspan=\"2\" valign=\"top\">1</th>\n",
       "      <th>No</th>\n",
       "      <td>0.724255</td>\n",
       "    </tr>\n",
       "    <tr>\n",
       "      <th>Yes</th>\n",
       "      <td>0.275745</td>\n",
       "    </tr>\n",
       "  </tbody>\n",
       "</table>\n",
       "</div>"
      ],
      "text/plain": [
       "                           Age\n",
       "SMS_received No_show          \n",
       "0            No       0.832967\n",
       "             Yes      0.167033\n",
       "1            No       0.724255\n",
       "             Yes      0.275745"
      ]
     },
     "execution_count": 25,
     "metadata": {},
     "output_type": "execute_result"
    }
   ],
   "source": [
    "# Calculating the proportion within groups\n",
    "counts = group('SMS_received')\n",
    "totals = df.groupby('SMS_received').count()['Age']\n",
    "sms_prop = counts / totals \n",
    "sms_prop = pd.DataFrame(sms_prop)\n",
    "sms_prop"
   ]
  },
  {
   "cell_type": "markdown",
   "metadata": {},
   "source": [
    "> About 28% of patients who received SMS showed up for the appointment as against 17% who didn't receive SMS but showed up for appointment.\n",
    "> Conversely, patients who received SMS and didn't show were 25698 (72%)."
   ]
  },
  {
   "cell_type": "markdown",
   "metadata": {},
   "source": [
    "### Correlation"
   ]
  },
  {
   "cell_type": "code",
   "execution_count": 26,
   "metadata": {},
   "outputs": [
    {
     "data": {
      "text/html": [
       "<div>\n",
       "<style scoped>\n",
       "    .dataframe tbody tr th:only-of-type {\n",
       "        vertical-align: middle;\n",
       "    }\n",
       "\n",
       "    .dataframe tbody tr th {\n",
       "        vertical-align: top;\n",
       "    }\n",
       "\n",
       "    .dataframe thead th {\n",
       "        text-align: right;\n",
       "    }\n",
       "</style>\n",
       "<table border=\"1\" class=\"dataframe\">\n",
       "  <thead>\n",
       "    <tr style=\"text-align: right;\">\n",
       "      <th></th>\n",
       "      <th>PatientId</th>\n",
       "      <th>Age</th>\n",
       "      <th>Scholarship</th>\n",
       "      <th>Hypertension</th>\n",
       "      <th>Diabetes</th>\n",
       "      <th>Alcoholism</th>\n",
       "      <th>Handicap</th>\n",
       "      <th>SMS_received</th>\n",
       "      <th>Date_diff</th>\n",
       "    </tr>\n",
       "  </thead>\n",
       "  <tbody>\n",
       "    <tr>\n",
       "      <th>PatientId</th>\n",
       "      <td>1.000000</td>\n",
       "      <td>-0.004139</td>\n",
       "      <td>-0.002880</td>\n",
       "      <td>-0.006441</td>\n",
       "      <td>0.001605</td>\n",
       "      <td>0.011011</td>\n",
       "      <td>-0.007916</td>\n",
       "      <td>-0.009749</td>\n",
       "      <td>-0.001090</td>\n",
       "    </tr>\n",
       "    <tr>\n",
       "      <th>Age</th>\n",
       "      <td>-0.004139</td>\n",
       "      <td>1.000000</td>\n",
       "      <td>-0.092457</td>\n",
       "      <td>0.504586</td>\n",
       "      <td>0.292391</td>\n",
       "      <td>0.095811</td>\n",
       "      <td>0.078033</td>\n",
       "      <td>0.012643</td>\n",
       "      <td>0.032707</td>\n",
       "    </tr>\n",
       "    <tr>\n",
       "      <th>Scholarship</th>\n",
       "      <td>-0.002880</td>\n",
       "      <td>-0.092457</td>\n",
       "      <td>1.000000</td>\n",
       "      <td>-0.019729</td>\n",
       "      <td>-0.024894</td>\n",
       "      <td>0.035022</td>\n",
       "      <td>-0.008586</td>\n",
       "      <td>0.001194</td>\n",
       "      <td>-0.030076</td>\n",
       "    </tr>\n",
       "    <tr>\n",
       "      <th>Hypertension</th>\n",
       "      <td>-0.006441</td>\n",
       "      <td>0.504586</td>\n",
       "      <td>-0.019729</td>\n",
       "      <td>1.000000</td>\n",
       "      <td>0.433086</td>\n",
       "      <td>0.087971</td>\n",
       "      <td>0.080083</td>\n",
       "      <td>-0.006267</td>\n",
       "      <td>-0.018750</td>\n",
       "    </tr>\n",
       "    <tr>\n",
       "      <th>Diabetes</th>\n",
       "      <td>0.001605</td>\n",
       "      <td>0.292391</td>\n",
       "      <td>-0.024894</td>\n",
       "      <td>0.433086</td>\n",
       "      <td>1.000000</td>\n",
       "      <td>0.018474</td>\n",
       "      <td>0.057530</td>\n",
       "      <td>-0.014550</td>\n",
       "      <td>-0.028082</td>\n",
       "    </tr>\n",
       "    <tr>\n",
       "      <th>Alcoholism</th>\n",
       "      <td>0.011011</td>\n",
       "      <td>0.095811</td>\n",
       "      <td>0.035022</td>\n",
       "      <td>0.087971</td>\n",
       "      <td>0.018474</td>\n",
       "      <td>1.000000</td>\n",
       "      <td>0.004648</td>\n",
       "      <td>-0.026147</td>\n",
       "      <td>-0.037822</td>\n",
       "    </tr>\n",
       "    <tr>\n",
       "      <th>Handicap</th>\n",
       "      <td>-0.007916</td>\n",
       "      <td>0.078033</td>\n",
       "      <td>-0.008586</td>\n",
       "      <td>0.080083</td>\n",
       "      <td>0.057530</td>\n",
       "      <td>0.004648</td>\n",
       "      <td>1.000000</td>\n",
       "      <td>-0.024161</td>\n",
       "      <td>-0.019534</td>\n",
       "    </tr>\n",
       "    <tr>\n",
       "      <th>SMS_received</th>\n",
       "      <td>-0.009749</td>\n",
       "      <td>0.012643</td>\n",
       "      <td>0.001194</td>\n",
       "      <td>-0.006267</td>\n",
       "      <td>-0.014550</td>\n",
       "      <td>-0.026147</td>\n",
       "      <td>-0.024161</td>\n",
       "      <td>1.000000</td>\n",
       "      <td>0.388193</td>\n",
       "    </tr>\n",
       "    <tr>\n",
       "      <th>Date_diff</th>\n",
       "      <td>-0.001090</td>\n",
       "      <td>0.032707</td>\n",
       "      <td>-0.030076</td>\n",
       "      <td>-0.018750</td>\n",
       "      <td>-0.028082</td>\n",
       "      <td>-0.037822</td>\n",
       "      <td>-0.019534</td>\n",
       "      <td>0.388193</td>\n",
       "      <td>1.000000</td>\n",
       "    </tr>\n",
       "  </tbody>\n",
       "</table>\n",
       "</div>"
      ],
      "text/plain": [
       "              PatientId       Age  Scholarship  Hypertension  Diabetes  \\\n",
       "PatientId      1.000000 -0.004139    -0.002880     -0.006441  0.001605   \n",
       "Age           -0.004139  1.000000    -0.092457      0.504586  0.292391   \n",
       "Scholarship   -0.002880 -0.092457     1.000000     -0.019729 -0.024894   \n",
       "Hypertension  -0.006441  0.504586    -0.019729      1.000000  0.433086   \n",
       "Diabetes       0.001605  0.292391    -0.024894      0.433086  1.000000   \n",
       "Alcoholism     0.011011  0.095811     0.035022      0.087971  0.018474   \n",
       "Handicap      -0.007916  0.078033    -0.008586      0.080083  0.057530   \n",
       "SMS_received  -0.009749  0.012643     0.001194     -0.006267 -0.014550   \n",
       "Date_diff     -0.001090  0.032707    -0.030076     -0.018750 -0.028082   \n",
       "\n",
       "              Alcoholism  Handicap  SMS_received  Date_diff  \n",
       "PatientId       0.011011 -0.007916     -0.009749  -0.001090  \n",
       "Age             0.095811  0.078033      0.012643   0.032707  \n",
       "Scholarship     0.035022 -0.008586      0.001194  -0.030076  \n",
       "Hypertension    0.087971  0.080083     -0.006267  -0.018750  \n",
       "Diabetes        0.018474  0.057530     -0.014550  -0.028082  \n",
       "Alcoholism      1.000000  0.004648     -0.026147  -0.037822  \n",
       "Handicap        0.004648  1.000000     -0.024161  -0.019534  \n",
       "SMS_received   -0.026147 -0.024161      1.000000   0.388193  \n",
       "Date_diff      -0.037822 -0.019534      0.388193   1.000000  "
      ]
     },
     "execution_count": 26,
     "metadata": {},
     "output_type": "execute_result"
    }
   ],
   "source": [
    "# To see correlation amongst variable\n",
    "corrMatrix = df.corr()\n",
    "corrMatrix"
   ]
  },
  {
   "cell_type": "markdown",
   "metadata": {},
   "source": [
    "> Correlation between variables have ranged from low to moderate. \n",
    "* Age and Hypertension have a moderate positive correlation.\n",
    "* Handicap and SMS_received have a low negative correlation."
   ]
  },
  {
   "cell_type": "markdown",
   "metadata": {},
   "source": [
    "<a id='conclusions'></a>\n",
    "## Conclusions\n",
    "\n"
   ]
  },
  {
   "cell_type": "markdown",
   "metadata": {
    "collapsed": true
   },
   "source": [
    "We can conclude that majority of patients have failed to show up when scheduled for appointment. Although, more proportions of patients with a time difference (scheduled date to appointment date) of more than 14 days have shown up for their appointment.\n",
    "\n",
    "From our EDAs, the age distribution across groups (showed and no-show) shows little difference, but the z test for difference of mean showed that there was difference in the means of both group. The statistical tests provided a mechanism to make a quantitative decision on the ages of both groups. We concluded by saying that there was difference in the mean ages of those who showed up for appointments and those who didn't.\n",
    "\n",
    "Across gender, distributions and proportions also looked similar. Further tests can also be carried out to make decisions.\n",
    "\n",
    "The proportions of patients who received SMS and didn't show up were relatively lower to those that didn't receive. 72% of patients that received SMS didn't come while 82% of those who didn't receive SMS didn't make the appointment.\n",
    "\n",
    "#### Improvements\n",
    "* A regression model can be built to predict showing up using the features available. After fitting a model, we can then estimate the significant variables."
   ]
  },
  {
   "cell_type": "markdown",
   "metadata": {},
   "source": [
    "<a id='limitations'></a>\n",
    "## Limitations\n",
    "\n",
    "* No statistical tests was performed to test the difference in proportions\n",
    "* No test was performed for causation\n",
    "* No specific variable was collected to show exact reason for absence which would help with causation analysis."
   ]
  }
 ],
 "metadata": {
  "kernelspec": {
   "display_name": "Python 3 (ipykernel)",
   "language": "python",
   "name": "python3"
  },
  "language_info": {
   "codemirror_mode": {
    "name": "ipython",
    "version": 3
   },
   "file_extension": ".py",
   "mimetype": "text/x-python",
   "name": "python",
   "nbconvert_exporter": "python",
   "pygments_lexer": "ipython3",
   "version": "3.9.8"
  }
 },
 "nbformat": 4,
 "nbformat_minor": 2
}
